{
  "nbformat": 4,
  "nbformat_minor": 0,
  "metadata": {
    "colab": {
      "name": "Netflix_DAnalysis.ipynb",
      "provenance": [],
      "collapsed_sections": [],
      "include_colab_link": true
    },
    "kernelspec": {
      "name": "python3",
      "display_name": "Python 3"
    },
    "language_info": {
      "name": "python"
    }
  },
  "cells": [
    {
      "cell_type": "markdown",
      "metadata": {
        "id": "view-in-github",
        "colab_type": "text"
      },
      "source": [
        "<a href=\"https://colab.research.google.com/github/Balenm/NF_DAnalysis/blob/main/Netflix_DAnalysis.ipynb\" target=\"_parent\"><img src=\"https://colab.research.google.com/assets/colab-badge.svg\" alt=\"Open In Colab\"/></a>"
      ]
    },
    {
      "cell_type": "markdown",
      "source": [
        "# A surface analysis of Netflix's Dataset\n",
        "\n",
        "Through this project, we will be analyzing the [Netflix Movies and TV Shows ](http://https://www.kaggle.com/datasets/shivamb/netflix-shows) dataset to identify: \n",
        "\n",
        "* **A snapshot:**\n",
        "> * Distribution of types of movies and series </br>\n",
        "> * Distribution of genres </br>\n",
        "> * Distribution of maturity ratings </br>\n",
        "> * Movies/series added per month per year </br>\n",
        "> * Top performing directors</br>\n",
        "* **Countries with highest number of movie/series production**\n",
        "* **The top 5 actors by the number of times they performed in a movies/series**\n",
        "* **What are the top genres in each country?**\n",
        "* **List of the movies that have \"happy\" in their descriptions**\n",
        "* **Top three genres by their accumulated durations**\n",
        "* **Which movies has the longest duration**\n",
        "* **List 5 longest movies and series**\n",
        "* **Which series has the highest number of seasons**\n",
        "* **Count the number of movies and TV series for each year**\n",
        "* **Which movies has the longest duration**\n",
        "* **List 3 movies and TV series which have the highest number of cast**\n",
        "* **Show the total number of ,movies and TV series in each country**\n",
        "* **Count the movies which relate to magic,animal,history,games and marin**\n",
        "\n",
        "\n",
        "\n",
        "\n",
        "\n"
      ],
      "metadata": {
        "id": "nXCz0hEG0e68"
      }
    },
    {
      "cell_type": "code",
      "source": [
        "import numpy as np\n",
        "import pandas as pd\n",
        "\n",
        "netflix_data = pd.read_csv(\"/content/Netflix_Data/netflix_titles.csv\") "
      ],
      "metadata": {
        "id": "Yn9_-qcQ3lvY"
      },
      "execution_count": 20,
      "outputs": []
    },
    {
      "cell_type": "code",
      "source": [
        "netflix_data.info()"
      ],
      "metadata": {
        "colab": {
          "base_uri": "https://localhost:8080/"
        },
        "id": "hfJL1TC1a5C4",
        "outputId": "81d9a750-692d-4b9b-e186-79547830246d"
      },
      "execution_count": null,
      "outputs": [
        {
          "output_type": "stream",
          "name": "stdout",
          "text": [
            "<class 'pandas.core.frame.DataFrame'>\n",
            "RangeIndex: 8807 entries, 0 to 8806\n",
            "Data columns (total 12 columns):\n",
            " #   Column        Non-Null Count  Dtype \n",
            "---  ------        --------------  ----- \n",
            " 0   show_id       8807 non-null   object\n",
            " 1   type          8807 non-null   object\n",
            " 2   title         8807 non-null   object\n",
            " 3   director      6173 non-null   object\n",
            " 4   cast          7982 non-null   object\n",
            " 5   country       7976 non-null   object\n",
            " 6   date_added    8797 non-null   object\n",
            " 7   release_year  8807 non-null   int64 \n",
            " 8   rating        8803 non-null   object\n",
            " 9   duration      8804 non-null   object\n",
            " 10  listed_in     8807 non-null   object\n",
            " 11  description   8807 non-null   object\n",
            "dtypes: int64(1), object(11)\n",
            "memory usage: 825.8+ KB\n"
          ]
        }
      ]
    },
    {
      "cell_type": "code",
      "source": [
        "netflix_data.isna().sum()"
      ],
      "metadata": {
        "colab": {
          "base_uri": "https://localhost:8080/"
        },
        "id": "mYYJ6t1pa6I_",
        "outputId": "5d6307e0-1a74-4abf-8131-95afc90b4c7b"
      },
      "execution_count": 21,
      "outputs": [
        {
          "output_type": "execute_result",
          "data": {
            "text/plain": [
              "show_id            0\n",
              "type               0\n",
              "title              0\n",
              "director        2518\n",
              "cast             747\n",
              "country          803\n",
              "date_added         9\n",
              "release_year       0\n",
              "rating             4\n",
              "duration           4\n",
              "listed_in          1\n",
              "description        1\n",
              "dtype: int64"
            ]
          },
          "metadata": {},
          "execution_count": 21
        }
      ]
    },
    {
      "cell_type": "code",
      "source": [
        "netflix_data = netflix_data.replace(\"\", np.nan)"
      ],
      "metadata": {
        "id": "X6YoltOWhoTS"
      },
      "execution_count": 22,
      "outputs": []
    },
    {
      "cell_type": "code",
      "source": [
        ""
      ],
      "metadata": {
        "id": "IRstZxIeFo5O"
      },
      "execution_count": null,
      "outputs": []
    }
  ]
}