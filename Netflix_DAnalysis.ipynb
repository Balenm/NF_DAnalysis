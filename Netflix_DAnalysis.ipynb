{
  "nbformat": 4,
  "nbformat_minor": 0,
  "metadata": {
    "colab": {
      "name": "Netflix_DAnalysis.ipynb",
      "provenance": [],
      "collapsed_sections": [],
      "include_colab_link": true
    },
    "kernelspec": {
      "name": "python3",
      "display_name": "Python 3"
    },
    "language_info": {
      "name": "python"
    }
  },
  "cells": [
    {
      "cell_type": "markdown",
      "metadata": {
        "id": "view-in-github",
        "colab_type": "text"
      },
      "source": [
        "<a href=\"https://colab.research.google.com/github/Balenm/NF_DAnalysis/blob/main/Netflix_DAnalysis.ipynb\" target=\"_parent\"><img src=\"https://colab.research.google.com/assets/colab-badge.svg\" alt=\"Open In Colab\"/></a>"
      ]
    },
    {
      "cell_type": "markdown",
      "source": [
        "# A surface analysis of Netflix's Dataset\n",
        "\n",
        "Through this project, we will be analyzing the [Netflix Movies and TV Shows ](http://https://www.kaggle.com/datasets/shivamb/netflix-shows) dataset to identify: \n",
        "\n",
        "* **A snapshot:**\n",
        "> * Distribution of types of movies and series </br>\n",
        "> * Distribution of genres </br>\n",
        "> * Distribution of maturity ratings </br>\n",
        "> * Movies/series added per month per year </br>\n",
        "> * Top performing directors</br>\n",
        "* **Countries with highest number of movie/series production**\n",
        "* **The top 5 actors by the number of times they performed in a movies/series**\n",
        "* **What are the top genres in each country?**\n",
        "* **List of the movies that have \"happy\" in their descriptions**\n",
        "* **Top three genres by their accumulated durations**\n",
        "* **Which movies has the longest duration**\n",
        "* **List 5 longest movies and series**\n",
        "* **Which series has the highest number of seasons**\n",
        "* **Count the number of movies and TV series for each year**\n",
        "* **Which movies has the longest duration**\n",
        "* **List 3 movies and TV series which have the highest number of cast**\n",
        "* **Show the total number of ,movies and TV series in each country**\n",
        "* **Count the movies which relate to magic,animal,history,games and marin**\n",
        "\n",
        "\n",
        "\n",
        "\n",
        "\n"
      ],
      "metadata": {
        "id": "nXCz0hEG0e68"
      }
    },
    {
      "cell_type": "markdown",
      "source": [
        "Importing libraries and the dataset"
      ],
      "metadata": {
        "id": "HmUzfS02ECgz"
      }
    },
    {
      "cell_type": "code",
      "source": [
        "import numpy as np\n",
        "import pandas as pd\n",
        "netflix_data = pd.read_csv(\"https://raw.githubusercontent.com/Balenm/NF_DAnalysis/main/data_source/netflix_titles.csv\")"
      ],
      "metadata": {
        "id": "c_i3IlCGa037"
      },
      "execution_count": 30,
      "outputs": []
    },
    {
      "cell_type": "markdown",
      "source": [
        "Finding and deduplicating the list of the movies\n",
        "\n"
      ],
      "metadata": {
        "id": "S1nKs8_yD0S7"
      }
    },
    {
      "cell_type": "code",
      "source": [
        "print (netflix_data.nunique()) #printing the unique values out of 8807 rows\n",
        "\n",
        "\n",
        "netflix_data = netflix_data.replace(\"\", np.nan) #Changing all the empty data fields to \"nan\"\n",
        "netflix_data_sorted= netflix_data.sort_values(by=[\"date_added\"], ascending=True)\n",
        "print (netflix_data.shape)\n",
        "netflix_data_sorted.drop_duplicates(subset=['description'],keep=\"last\", inplace=True)\n",
        "netflix_clean= netflix_data_sorted.sort_values(by=[\"description\"], ascending=True)\n",
        "\n",
        "\n",
        "# netflix_clean.loc[netflix_clean.duplicated(subset=['description'],keep=False), :]  Showing duplicate movies\n",
        "#duplicated_NF_ALL.to_csv('file_name.csv', encoding='utf-8') Exporting a file to CSV Write to an external CSV file"
      ],
      "metadata": {
        "colab": {
          "base_uri": "https://localhost:8080/"
        },
        "id": "qv5AbpfeCqsK",
        "outputId": "6a30a249-3617-4ae8-cf23-40c5a4197615"
      },
      "execution_count": 71,
      "outputs": [
        {
          "output_type": "stream",
          "name": "stdout",
          "text": [
            "show_id         8807\n",
            "type               2\n",
            "title           8807\n",
            "director        4528\n",
            "cast            7692\n",
            "country          748\n",
            "date_added      1767\n",
            "release_year      74\n",
            "rating            17\n",
            "duration         220\n",
            "listed_in        514\n",
            "description     8775\n",
            "dtype: int64\n",
            "(8807, 12)\n"
          ]
        }
      ]
    },
    {
      "cell_type": "code",
      "source": [
        "\n"
      ],
      "metadata": {
        "id": "zu0rznWHEV7O"
      },
      "execution_count": 31,
      "outputs": []
    }
  ]
}